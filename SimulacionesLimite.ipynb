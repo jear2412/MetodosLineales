{
  "nbformat": 4,
  "nbformat_minor": 0,
  "metadata": {
    "colab": {
      "name": "Untitled25.ipynb",
      "provenance": [],
      "authorship_tag": "ABX9TyPQ05TOtVElkRX3oFJT8YOL",
      "include_colab_link": true
    },
    "kernelspec": {
      "name": "python3",
      "display_name": "Python 3"
    }
  },
  "cells": [
    {
      "cell_type": "markdown",
      "metadata": {
        "id": "view-in-github",
        "colab_type": "text"
      },
      "source": [
        "<a href=\"https://colab.research.google.com/github/jear2412/MetodosLineales/blob/master/SimulacionesLimite.ipynb\" target=\"_parent\"><img src=\"https://colab.research.google.com/assets/colab-badge.svg\" alt=\"Open In Colab\"/></a>"
      ]
    },
    {
      "cell_type": "code",
      "metadata": {
        "id": "M2fWPXkuQEwO"
      },
      "source": [
        "import numpy as np\n",
        "import scipy\n",
        "import scipy.stats\n",
        "import seaborn as sns\n",
        "import matplotlib\n",
        "import matplotlib.pyplot as plt\n",
        "import pandas as pd\n",
        "import statsmodels.api as sm\n",
        "\n",
        "sns.set_theme(style=\"darkgrid\") \n"
      ],
      "execution_count": 8,
      "outputs": []
    },
    {
      "cell_type": "code",
      "metadata": {
        "id": "SCT3J4yAQJPF",
        "outputId": "2f8c72f0-a6e9-41ee-ecda-b03cefd3bea9",
        "colab": {
          "base_uri": "https://localhost:8080/",
          "height": 69
        }
      },
      "source": [
        "# Caso univariado\n",
        "# Dado que x_i ~ N( \\mu, \\sigma^2)\n",
        "# \\bar{x} ~ N( \\mu ,\\sigma^2/n )\n",
        "\n",
        "mu=5\n",
        "sigma=2\n",
        "\n",
        "M=1000\n",
        "N=1000\n",
        "\n",
        "xbar=np.zeros(M)\n",
        "\n",
        "#M muestras de tamano N, guardamos la media empirica\n",
        "\n",
        "for i in range(M):\n",
        "  xbar[i]=np.mean(scipy.stats.norm.rvs(loc=mu, scale=sigma, size=N)  )\n",
        "\n",
        "\n",
        "print('Media empirica de xbarra: ',np.mean(xbar))\n",
        "print('Varianza empirica de xbarra: ',np.var(xbar))\n",
        "\n",
        "print( 'Varianza teorica sigma^2/n: ', sigma**2/ M)\n"
      ],
      "execution_count": 62,
      "outputs": [
        {
          "output_type": "stream",
          "text": [
            "Media empirica de xbarra:  4.9969311695041245\n",
            "Varianza empirica de xbarra:  0.003820371784802991\n",
            "Varianza teorica sigma^2/n:  0.004\n"
          ],
          "name": "stdout"
        }
      ]
    },
    {
      "cell_type": "code",
      "metadata": {
        "id": "UCY_DOlnRTdt"
      },
      "source": [
        "#Convergencia en probabilidad\n",
        "\n",
        "#xbar converge en probabilidad a mu\n",
        "\n",
        "mu=5\n",
        "sigma=1\n",
        "\n",
        "M=100\n",
        "\n",
        "xbar=np.zeros(M)\n",
        "sample=np.zeros(M)\n",
        "\n",
        "#Como se mueve xbarra a medida cambia el tamano de muestra?\n",
        "\n",
        "for i in range(M):\n",
        "  #sample[i]=scipy.stats.norm.rvs(loc=mu, scale=sigma, size=1)\n",
        "  #sample[i]=scipy.stats.t.rvs(df=1, size=1)\n",
        "  #sample[i]=scipy.stats.uniform.rvs(size=1)\n",
        "  sample[i]=scipy.stats.cauchy.rvs(1)\n",
        "  xbar[i]=np.mean(sample[0:i]  )\n",
        "\n",
        "plt.plot(xbar)\n",
        "plt.xlabel('Tamano de muestra')\n",
        "plt.ylabel(r'$\\bar{x}$')\n"
      ],
      "execution_count": null,
      "outputs": []
    },
    {
      "cell_type": "code",
      "metadata": {
        "id": "Hb2UoD55SUxA",
        "outputId": "48a57a01-52fa-4f1c-a9e0-f343f5a77aba",
        "colab": {
          "base_uri": "https://localhost:8080/",
          "height": 392
        }
      },
      "source": [
        "#Convergencia en probabilidad\n",
        "\n",
        "# xbar converge en probabilidad a mu\n",
        "\n",
        "mu=5\n",
        "sigma=1\n",
        "\n",
        "M=1000\n",
        "N=1000\n",
        "K=10 #tamano de la poblacion\n",
        "\n",
        "xbar=np.zeros( (K, M) )\n",
        "sample=np.zeros(M)\n",
        "for i in range(K):\n",
        "  for j in range(M):\n",
        "    sample[j]=scipy.stats.t.rvs(df=1, size=1)\n",
        "    #sample[j]=scipy.stats.norm.rvs(loc=mu, scale=sigma, size=1)  \n",
        "    xbar[i,j]=np.mean(sample[0:j]  )\n",
        "    \n",
        "\n",
        "for i in range(K):\n",
        "  plt.plot(xbar[i])\n",
        "\n",
        "plt.plot(xbar)\n",
        "plt.xlabel('Tamano de muestra')\n",
        "plt.ylabel(r'$\\bar{x}$')\n",
        "\n"
      ],
      "execution_count": 87,
      "outputs": [
        {
          "output_type": "stream",
          "text": [
            "/usr/local/lib/python3.6/dist-packages/numpy/core/fromnumeric.py:3335: RuntimeWarning: Mean of empty slice.\n",
            "  out=out, **kwargs)\n",
            "/usr/local/lib/python3.6/dist-packages/numpy/core/_methods.py:161: RuntimeWarning: invalid value encountered in double_scalars\n",
            "  ret = ret.dtype.type(ret / rcount)\n"
          ],
          "name": "stderr"
        },
        {
          "output_type": "execute_result",
          "data": {
            "text/plain": [
              "Text(0, 0.5, '$\\\\bar{x}$')"
            ]
          },
          "metadata": {
            "tags": []
          },
          "execution_count": 87
        },
        {
          "output_type": "display_data",
          "data": {
            "image/png": "[encoded data removed]",
            "text/plain": [
              "<Figure size 432x288 with 1 Axes>"
            ]
          },
          "metadata": {
            "tags": []
          }
        }
      ]
    },
    {
      "cell_type": "code",
      "metadata": {
        "id": "QCq4nrKTSrKC",
        "outputId": "18283311-c170-464b-defc-7906639ac5b2",
        "colab": {
          "base_uri": "https://localhost:8080/",
          "height": 393
        }
      },
      "source": [
        "#TCL univariado\n",
        "\n",
        "# \\sqrt{n}( \\bar x -mu ) ~ N(0, sigma^2)\n",
        "\n",
        "M=1000\n",
        "N=1000\n",
        "\n",
        "xbar=np.zeros(M)\n",
        "\n",
        "\n",
        "#uniforme\n",
        "#mu=1/2\n",
        "#sigma= 1/12\n",
        "\n",
        "#normal\n",
        "mu =5\n",
        "sigma=1\n",
        "\n",
        "for i in range(M):\n",
        "  #xbar[i]=np.mean(scipy.stats.uniform.rvs(size=N))\n",
        "  xbar[i]=np.mean(scipy.stats.norm.rvs(loc=mu, scale=sigma,size=N))\n",
        "\n",
        "# \\sqrt{n}( \\bar x -mu ) ~ N(0, sigma^2) univariado\n",
        "# \\sqrt{n}( \\bar x -mu ) ~ N_p(0, Sigma) multivariado\n",
        "\n",
        "# \\bar{x} ~ N(mu, sigma^2/ n) es asintotico! n es muy grande\n",
        "\n",
        "sns.distplot(xbar, kde=False, bins=15)\n",
        "plt.title('Histograma de '+r'$\\bar{x}$')\n",
        "print('Media: ',np.mean(xbar))\n",
        "\n",
        "S=M*np.var( xbar)\n",
        "print('Varianza estimada: ', S/M)\n",
        "print('Varianza teorica sigma^2/n:' , sigma**2*1/M)\n",
        "\n",
        "#nos permite hacer inferencia en \\mu cuando tenemos muestras grandes, \\mu= E(x)\n",
        "\n",
        "\n"
      ],
      "execution_count": 102,
      "outputs": [
        {
          "output_type": "stream",
          "text": [
            "/usr/local/lib/python3.6/dist-packages/seaborn/distributions.py:2551: FutureWarning: `distplot` is a deprecated function and will be removed in a future version. Please adapt your code to use either `displot` (a figure-level function with similar flexibility) or `histplot` (an axes-level function for histograms).\n",
            "  warnings.warn(msg, FutureWarning)\n"
          ],
          "name": "stderr"
        },
        {
          "output_type": "stream",
          "text": [
            "Media:  5.000368496211278\n",
            "Varianza estimada:  0.0010284465396141775\n",
            "Varianza teorica sigma^2/n: 0.001\n"
          ],
          "name": "stdout"
        },
        {
          "output_type": "display_data",
          "data": {
            "image/png": "[encoded data removed]",
            "text/plain": [
              "<Figure size 432x288 with 1 Axes>"
            ]
          },
          "metadata": {
            "tags": []
          }
        }
      ]
    },
    {
      "cell_type": "code",
      "metadata": {
        "id": "sG708NwDZIj9",
        "outputId": "2478e4d0-5523-4b09-ac35-5d6ec1a55ad9",
        "colab": {
          "base_uri": "https://localhost:8080/",
          "height": 341
        }
      },
      "source": [
        "# \\sqrt{n}( \\bar x -mu ) ~ N(0, sigma^2)\n",
        "\n",
        "# n ( \\bar x -mu )' S ( \\bar x -mu ) ~ chi2(1) caso univariado\n",
        "# n ( \\bar x -mu )' S ( \\bar x -mu ) ~ chi2(p) caso multivariado\n",
        "\n",
        "sns.distplot(N*(xbar-mu) *S*(xbar-mu) , kde= False)\n"
      ],
      "execution_count": 107,
      "outputs": [
        {
          "output_type": "stream",
          "text": [
            "/usr/local/lib/python3.6/dist-packages/seaborn/distributions.py:2551: FutureWarning: `distplot` is a deprecated function and will be removed in a future version. Please adapt your code to use either `displot` (a figure-level function with similar flexibility) or `histplot` (an axes-level function for histograms).\n",
            "  warnings.warn(msg, FutureWarning)\n"
          ],
          "name": "stderr"
        },
        {
          "output_type": "execute_result",
          "data": {
            "text/plain": [
              "<matplotlib.axes._subplots.AxesSubplot at 0x7f1523479b00>"
            ]
          },
          "metadata": {
            "tags": []
          },
          "execution_count": 107
        },
        {
          "output_type": "display_data",
          "data": {
            "image/png": "[encoded data removed]",
            "text/plain": [
              "<Figure size 432x288 with 1 Axes>"
            ]
          },
          "metadata": {
            "tags": []
          }
        }
      ]
    },
    {
      "cell_type": "code",
      "metadata": {
        "id": "78q0B-xBXpzj",
        "outputId": "4150ab01-fc12-43ae-c4e5-c60d77add9b9",
        "colab": {
          "base_uri": "https://localhost:8080/",
          "height": 34
        }
      },
      "source": [
        "#TCL Multivariado\n",
        "\n",
        "#Tarea : lunes 26 de octubre\n",
        "# \\sqrt{n}( \\bar x -mu ) ~ N(0, Sigma)\n",
        "# n(barx -mu)' S (bar x-mu) ~ chi2(p)\n",
        "\n",
        "# Tarea: Hacer una simulacion del TLC central multivariado\n",
        "# Uds deben establecer :\n",
        "\n",
        "# a) \n",
        "# n,p =2\n",
        "# distribucion de los vectores aleatorios (lo mas sencillo, hacerlos normales)\n",
        "# Histograma\n",
        "# Estimador de Densidad\n",
        "# Dibujar los contornos de la normal bivariada\n",
        "\n",
        "# b) \n",
        "# n,p\n",
        "# distribucion de los vectores aleatorios (lo mas sencillo, hacerlos normales)\n",
        "# Histograma\n",
        "# Estimador de Densidad\n",
        "# Bondad de ajuste: En realidad nos da una chi2(p)?\n",
        "# Dibujar los contornos de la normal bivariada\n"
      ],
      "execution_count": 57,
      "outputs": [
        {
          "output_type": "execute_result",
          "data": {
            "text/plain": [
              "(1000,)"
            ]
          },
          "metadata": {
            "tags": []
          },
          "execution_count": 57
        }
      ]
    }
  ]
}