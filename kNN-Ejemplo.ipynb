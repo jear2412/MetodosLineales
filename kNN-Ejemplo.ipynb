{
  "nbformat": 4,
  "nbformat_minor": 0,
  "metadata": {
    "colab": {
      "name": "Untitled28.ipynb",
      "provenance": [],
      "authorship_tag": "ABX9TyOlnmpYhPgBdNUpMBnp2VhT",
      "include_colab_link": true
    },
    "kernelspec": {
      "name": "python3",
      "display_name": "Python 3"
    }
  },
  "cells": [
    {
      "cell_type": "markdown",
      "metadata": {
        "id": "view-in-github",
        "colab_type": "text"
      },
      "source": [
        "<a href=\"https://colab.research.google.com/github/jear2412/MetodosLineales/blob/master/kNN-Ejemplo.ipynb\" target=\"_parent\"><img src=\"https://colab.research.google.com/assets/colab-badge.svg\" alt=\"Open In Colab\"/></a>"
      ]
    },
    {
      "cell_type": "code",
      "metadata": {
        "id": "1pvAv0N0U9rR"
      },
      "source": [
        "#------ kNN \n",
        "\n",
        "\n",
        "import numpy as np\n",
        "import scipy\n",
        "import scipy.stats\n",
        "import seaborn as sns\n",
        "import matplotlib\n",
        "import matplotlib.pyplot as plt\n",
        "import pandas as pd\n",
        "\n",
        "sns.set_theme(style=\"darkgrid\") "
      ],
      "execution_count": 58,
      "outputs": []
    },
    {
      "cell_type": "code",
      "metadata": {
        "id": "yBywPRENU_na"
      },
      "source": [
        "from sklearn.neighbors import KNeighborsClassifier"
      ],
      "execution_count": 59,
      "outputs": []
    },
    {
      "cell_type": "code",
      "metadata": {
        "id": "yZ6fqxr5Xyhi"
      },
      "source": [
        "# Data\n",
        "\n",
        "url = \"https://archive.ics.uci.edu/ml/machine-learning-databases/iris/iris.data\"\n",
        "\n",
        "# Assign colum names to the dataset\n",
        "names = ['sepal-length', 'sepal-width', 'petal-length', 'petal-width', 'Class']\n",
        "\n",
        "# Read dataset to pandas dataframe\n",
        "dataset = pd.read_csv(url, names=names)"
      ],
      "execution_count": 60,
      "outputs": []
    },
    {
      "cell_type": "code",
      "metadata": {
        "id": "-msiJq7-ZCZG"
      },
      "source": [
        "dataset"
      ],
      "execution_count": null,
      "outputs": []
    },
    {
      "cell_type": "code",
      "metadata": {
        "id": "9wHO5juIlFXw"
      },
      "source": [
        "# Class debe ser categorica\n",
        "\n",
        "dataset.Class = pd.Categorical(dataset.Class)\n",
        "\n",
        "dataset['code'] = dataset.Class.cat.codes"
      ],
      "execution_count": 68,
      "outputs": []
    },
    {
      "cell_type": "code",
      "metadata": {
        "id": "pC8NKlmJlReW"
      },
      "source": [
        "dataset"
      ],
      "execution_count": null,
      "outputs": []
    },
    {
      "cell_type": "code",
      "metadata": {
        "id": "pH5_h_tVZEOA"
      },
      "source": [
        "dataset.describe()"
      ],
      "execution_count": null,
      "outputs": []
    },
    {
      "cell_type": "code",
      "metadata": {
        "id": "zsThspp0ZHlB"
      },
      "source": [
        "# Pair plot\n",
        "sns.pairplot(dataset, markers='.', plot_kws=dict(s=0.5, edgecolor=\"b\"),diag_kws=dict(bins=15) )\n",
        "plt.tight_layout()"
      ],
      "execution_count": null,
      "outputs": []
    },
    {
      "cell_type": "code",
      "metadata": {
        "id": "fk1NTxkzcHfG"
      },
      "source": [
        "# X e y\n",
        "X = dataset.iloc[:, :-2].values\n",
        "y = dataset.iloc[:, 5].values"
      ],
      "execution_count": 74,
      "outputs": []
    },
    {
      "cell_type": "code",
      "metadata": {
        "id": "PO0qRtiIcMop"
      },
      "source": [
        "# Train y Test\n",
        "\n",
        "from sklearn.model_selection import train_test_split\n",
        "\n",
        "X_train, X_test, y_train, y_test = train_test_split(X, y, test_size=0.20)\n",
        "\n",
        "#training 120\n",
        "#test 30"
      ],
      "execution_count": 75,
      "outputs": []
    },
    {
      "cell_type": "code",
      "metadata": {
        "id": "YKvHCXo-caQd"
      },
      "source": [
        "# Escalamiento de los datos\n",
        "\n",
        "from sklearn.preprocessing import StandardScaler\n",
        "scaler = StandardScaler()\n",
        "scaler.fit(X_train)\n",
        "\n",
        "X_train = scaler.transform(X_train)\n",
        "X_test = scaler.transform(X_test)"
      ],
      "execution_count": 76,
      "outputs": []
    },
    {
      "cell_type": "code",
      "metadata": {
        "id": "mS9haDJiX2JK",
        "outputId": "d7c36b4e-5fec-45cf-9c21-60506914323a",
        "colab": {
          "base_uri": "https://localhost:8080/"
        }
      },
      "source": [
        "#Clasificador KNN\n",
        "\n",
        "from sklearn.neighbors import KNeighborsClassifier\n",
        "\n",
        "k=5\n",
        "classifier = KNeighborsClassifier(n_neighbors=k, algorithm='brute') #inicializamos el clasificador \n",
        "classifier.fit(X_train, y_train) #entrenamos el clasificador"
      ],
      "execution_count": 77,
      "outputs": [
        {
          "output_type": "execute_result",
          "data": {
            "text/plain": [
              "KNeighborsClassifier(algorithm='brute', leaf_size=30, metric='minkowski',\n",
              "                     metric_params=None, n_jobs=None, n_neighbors=5, p=2,\n",
              "                     weights='uniform')"
            ]
          },
          "metadata": {
            "tags": []
          },
          "execution_count": 77
        }
      ]
    },
    {
      "cell_type": "code",
      "metadata": {
        "id": "YvdnnHLCc5E3"
      },
      "source": [
        "# predicciones del clasificador\n",
        "\n",
        "y_pred = classifier.predict(X_test)\n"
      ],
      "execution_count": 78,
      "outputs": []
    },
    {
      "cell_type": "code",
      "metadata": {
        "id": "wB5gaZkyc_jI"
      },
      "source": [
        "#Evaluamos el clasificador\n",
        "\n",
        "from sklearn.metrics import classification_report, confusion_matrix\n",
        "\n",
        "print(confusion_matrix(y_test, y_pred)) #Matriz de Confusion\n",
        "print(classification_report(y_test, y_pred)) #Metricas como precision, recall, f1\n"
      ],
      "execution_count": null,
      "outputs": []
    },
    {
      "cell_type": "code",
      "metadata": {
        "id": "E3r1uVBbdIBV"
      },
      "source": [
        "#Grafico de los errores para valores de k\n",
        "\n",
        "\n",
        "errortrain= []\n",
        "errorpred= []\n",
        "\n",
        "# Calcular errores para los valores de k entre 1 y 50\n",
        "# Para cada valor de k ajustaremos\n",
        "for i in range(1, 50):\n",
        "    knn = KNeighborsClassifier(n_neighbors=i, algorithm='brute')\n",
        "    knn.fit(X_train, y_train)\n",
        "    \n",
        "    #errores en entrenamiento\n",
        "    etrain= knn.predict(X_train)\n",
        "    errortrain.append( np.mean(  etrain!=y_train    )   )\n",
        "\n",
        "    #errores en prueba\n",
        "    pred_i = knn.predict(X_test)\n",
        "    errorpred.append(np.mean(pred_i != y_test))\n",
        "    \n"
      ],
      "execution_count": 87,
      "outputs": []
    },
    {
      "cell_type": "code",
      "metadata": {
        "id": "63Tb6XLRe9Uv"
      },
      "source": [
        "#Grafico error de entrenamiento\n",
        "# Cual es el mejor valor de k? \n",
        "\n",
        "plt.plot(range(1, 50), errortrain, color='red', linestyle='dashed', marker='o',\n",
        "         markerfacecolor='blue', markersize=5)\n",
        "plt.title('Error Valor de k Entrenamiento')\n",
        "plt.xlabel('k')\n",
        "plt.ylabel('Error')"
      ],
      "execution_count": null,
      "outputs": []
    },
    {
      "cell_type": "code",
      "metadata": {
        "id": "ZNGAIEnBfUvG"
      },
      "source": [
        "#Grafico error de entrenamiento\n",
        "# Cual es el mejor valor de k?\n",
        "\n",
        "plt.plot(range(1, 50), errorpred, color='red', linestyle='dashed', marker='o',\n",
        "         markerfacecolor='blue', markersize=5)\n",
        "plt.title('Error Valor de k Prueba')\n",
        "plt.xlabel('k')\n",
        "plt.ylabel('Error')"
      ],
      "execution_count": null,
      "outputs": []
    },
    {
      "cell_type": "code",
      "metadata": {
        "id": "62S2AcL4fjXU"
      },
      "source": [
        "#Frontera de Decision usando los primeros dos atributos\n",
        "\n",
        "import matplotlib.pyplot as plt\n",
        "from matplotlib.colors import ListedColormap\n",
        "\n",
        "X=X_train[:,0:2]\n",
        "y=y_train\n",
        "\n",
        "\n",
        "k=11\n",
        "h = .02  # Tamano de paso\n",
        "\n",
        "\n",
        "\n",
        "\n",
        "# Crear mapas de colores\n",
        "# Create color maps\n",
        "cmap_light = ListedColormap(['orange', 'cyan', 'cornflowerblue'])\n",
        "cmap_bold = ListedColormap(['darkorange', 'c', 'darkblue'])\n",
        "\n",
        "for weights in ['uniform']:\n",
        "    # we create an instance of Neighbours Classifier and fit the data.\n",
        "    # creamos una instancia del clasificador de kNN y j\n",
        "    clf = KNeighborsClassifier(k, weights=weights, algorithm='brute')\n",
        "    clf.fit(X, y)\n",
        "\n",
        "    # Plot the decision boundary. For that, we will assign a color to each\n",
        "    # point in the mesh [x_min, x_max]x[y_min, y_max].\n",
        "\n",
        "    #Graficamos la frontera de decision. Para ello se asigna un color a cada punto\n",
        "    # en la cuadricula [x_min, x_max]x[y_min, y_max].\n",
        "\n",
        "    x_min, x_max = X[:, 0].min() - 1, X[:, 0].max() + 1\n",
        "    y_min, y_max = X[:, 1].min() - 1, X[:, 1].max() + 1\n",
        "    xx, yy = np.meshgrid(np.arange(x_min, x_max, h),\n",
        "                         np.arange(y_min, y_max, h))\n",
        "    \n",
        "    Z = clf.predict(np.c_[xx.ravel(), yy.ravel()])\n",
        "\n",
        "    # Put the result into a color plot\n",
        "    Z = Z.reshape(xx.shape)\n",
        "    plt.figure()\n",
        "\n",
        "    plt.pcolormesh(xx, yy, Z, cmap=cmap_light )\n",
        "\n",
        "    # Plot also the training points\n",
        "    plt.scatter(X[:, 0], X[:, 1], c=y, cmap=cmap_bold,\n",
        "                edgecolor='k', s=25)\n",
        "    plt.xlim(xx.min(), xx.max())\n",
        "    plt.ylim(yy.min(), yy.max())\n",
        "    plt.xlabel('longitud sepalo')\n",
        "    plt.ylabel('ancho sepalo ')\n",
        "    plt.title( 'Frontera de Decision de Clasificador kNN'  )\n",
        " \n",
        "\n",
        "plt.show()\n",
        "\n",
        "\n",
        "\n"
      ],
      "execution_count": null,
      "outputs": []
    },
    {
      "cell_type": "markdown",
      "metadata": {
        "id": "XGsD_r3Qm0C9"
      },
      "source": [
        ""
      ]
    }
  ]
}