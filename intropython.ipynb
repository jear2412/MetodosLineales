{
  "nbformat": 4,
  "nbformat_minor": 0,
  "metadata": {
    "kernelspec": {
      "display_name": "Python 3",
      "language": "python",
      "name": "python3"
    },
    "language_info": {
      "codemirror_mode": {
        "name": "ipython",
        "version": 3
      },
      "file_extension": ".py",
      "mimetype": "text/x-python",
      "name": "python",
      "nbconvert_exporter": "python",
      "pygments_lexer": "ipython3",
      "version": "3.5.2"
    },
    "colab": {
      "name": "Chapter 02 - Introduction to Python.ipynb",
      "provenance": [],
      "toc_visible": true,
      "include_colab_link": true
    }
  },
  "cells": [
    {
      "cell_type": "markdown",
      "metadata": {
        "id": "view-in-github",
        "colab_type": "text"
      },
      "source": [
        "<a href=\"https://colab.research.google.com/github/jear2412/MetodosLineales/blob/master/intropython.ipynb\" target=\"_parent\"><img src=\"https://colab.research.google.com/assets/colab-badge.svg\" alt=\"Open In Colab\"/></a>"
      ]
    },
    {
      "cell_type": "markdown",
      "metadata": {
        "id": "VbtupFVHMLB6",
        "colab_type": "text"
      },
      "source": [
        "<H1>Introducción a Python</H1>"
      ]
    },
    {
      "cell_type": "markdown",
      "metadata": {
        "id": "xBsuO3Z7MLB9",
        "colab_type": "text"
      },
      "source": [
        "\n",
        "Estaremos usando un Jupyer notebook / Google colab para las actividades es periodo. Cada notebook tiene asociado un lenguaje llamado ''kernel''. Estaremos usando el kernel de Python 3.\n"
      ]
    },
    {
      "cell_type": "markdown",
      "metadata": {
        "id": "FgtH1vJVMLCD",
        "colab_type": "text"
      },
      "source": [
        "# 1. Python"
      ]
    },
    {
      "cell_type": "markdown",
      "metadata": {
        "id": "Jf3khvpwMLCG",
        "colab_type": "text"
      },
      "source": [
        "Python es un lenguaje de programacion que ha estado en desarrollo por mas de 25 años.\n",
        "\n",
        "Algunos recursos utiles\n",
        "\n",
        "**Comenzando con Python**:\n",
        "\n",
        "* https://www.codecademy.com/learn/python\n",
        "* http://docs.python-guide.org/en/latest/intro/learning/\n",
        "* https://learnpythonthehardway.org/book/\n",
        "* https://www.codementor.io/learn-python-online\n",
        "\n",
        "**Python en Notebooks**:\n",
        "\n",
        "* http://mbakker7.github.io/exploratory_computing_with_python/\n",
        "\n",
        "\n"
      ]
    },
    {
      "cell_type": "markdown",
      "metadata": {
        "id": "H8D0B2VKMLCI",
        "colab_type": "text"
      },
      "source": [
        "\n",
        "\n",
        "\n",
        "\n",
        "## 1.1 Declaraciones\n"
      ]
    },
    {
      "cell_type": "markdown",
      "metadata": {
        "id": "SiaRWfQpMLCK",
        "colab_type": "text"
      },
      "source": [
        "**Python** es un [lenguaje imperativo](https://en.wikipedia.org/wiki/Imperative_programming) basado en [declaraciones](https://en.wikipedia.org/wiki/Statement_(computer_science&#41;). Es decir, los programas en Python, consisten en lineas compuestas de declaraciones. Una declaracion puede ser\n",
        "\n",
        "* una expresion simple\n",
        "* una asignacion\n",
        "* un llamado a una funcion\n",
        "* una definicion de funcion\n",
        "* una declaracion\n"
      ]
    },
    {
      "cell_type": "markdown",
      "metadata": {
        "id": "_diw-XSiMLCM",
        "colab_type": "text"
      },
      "source": [
        "### 1.1.1 Expresiones\n"
      ]
    },
    {
      "cell_type": "markdown",
      "metadata": {
        "id": "MZqJX6UEMLCO",
        "colab_type": "text"
      },
      "source": [
        "* Numeros\n",
        "  * enteros\n",
        "  * punto flotante\n",
        "  * numeros complejos\n",
        "* strings (cadenas)\n",
        "* valores booleanos\n",
        "* listas y diccionarios\n"
      ]
    },
    {
      "cell_type": "markdown",
      "metadata": {
        "id": "nuY8DcklMLCQ",
        "colab_type": "text"
      },
      "source": [
        "#### 1.1.1.1 Numeros"
      ]
    },
    {
      "cell_type": "code",
      "metadata": {
        "id": "2AgzXhnvMLCU",
        "colab_type": "code",
        "colab": {
          "base_uri": "https://localhost:8080/",
          "height": 34
        },
        "outputId": "88b1f049-2296-4df0-d2a5-5cbe2e31f29b"
      },
      "source": [
        "1"
      ],
      "execution_count": null,
      "outputs": [
        {
          "output_type": "execute_result",
          "data": {
            "text/plain": [
              "1"
            ]
          },
          "metadata": {
            "tags": []
          },
          "execution_count": 1
        }
      ]
    },
    {
      "cell_type": "code",
      "metadata": {
        "id": "MMyVNdjIMLCb",
        "colab_type": "code",
        "colab": {}
      },
      "source": [
        "2"
      ],
      "execution_count": null,
      "outputs": []
    },
    {
      "cell_type": "code",
      "metadata": {
        "id": "vJLcE2_EMLCj",
        "colab_type": "code",
        "colab": {}
      },
      "source": [
        "-3"
      ],
      "execution_count": null,
      "outputs": []
    },
    {
      "cell_type": "code",
      "metadata": {
        "id": "NFLDx4HCMLCr",
        "colab_type": "code",
        "colab": {}
      },
      "source": [
        "1\n",
        "2"
      ],
      "execution_count": null,
      "outputs": []
    },
    {
      "cell_type": "code",
      "metadata": {
        "id": "Lz5dD_iAMLCx",
        "colab_type": "code",
        "colab": {}
      },
      "source": [
        "3.14"
      ],
      "execution_count": null,
      "outputs": []
    },
    {
      "cell_type": "markdown",
      "metadata": {
        "id": "d9jYIozkMLC5",
        "colab_type": "text"
      },
      "source": [
        "#### 1.1.1.2 Cadenas\n"
      ]
    },
    {
      "cell_type": "code",
      "metadata": {
        "id": "fRI_OKVDMLC6",
        "colab_type": "code",
        "colab": {
          "base_uri": "https://localhost:8080/",
          "height": 36
        },
        "outputId": "c740f914-9a1f-4b40-b91d-0e551c1b51d7"
      },
      "source": [
        "'manzana'"
      ],
      "execution_count": null,
      "outputs": [
        {
          "output_type": "execute_result",
          "data": {
            "application/vnd.google.colaboratory.intrinsic+json": {
              "type": "string"
            },
            "text/plain": [
              "'manzana'"
            ]
          },
          "metadata": {
            "tags": []
          },
          "execution_count": 2
        }
      ]
    },
    {
      "cell_type": "code",
      "metadata": {
        "id": "4U6z97gXMLC-",
        "colab_type": "code",
        "colab": {
          "base_uri": "https://localhost:8080/",
          "height": 36
        },
        "outputId": "72d90b57-93a4-4b18-eb2f-f16218e1af17"
      },
      "source": [
        "\"manzana\""
      ],
      "execution_count": null,
      "outputs": [
        {
          "output_type": "execute_result",
          "data": {
            "application/vnd.google.colaboratory.intrinsic+json": {
              "type": "string"
            },
            "text/plain": [
              "'manzana'"
            ]
          },
          "metadata": {
            "tags": []
          },
          "execution_count": 3
        }
      ]
    },
    {
      "cell_type": "markdown",
      "metadata": {
        "id": "V9rDvCU6MLDM",
        "colab_type": "text"
      },
      "source": [
        "\n",
        "Python muestra representacion de valores por comillas simples."
      ]
    },
    {
      "cell_type": "markdown",
      "metadata": {
        "id": "4F8BTLxZMLDN",
        "colab_type": "text"
      },
      "source": [
        "#### 1.1.1.3 Valores Booleanos\n"
      ]
    },
    {
      "cell_type": "code",
      "metadata": {
        "id": "ugoxyKa5MLDP",
        "colab_type": "code",
        "colab": {}
      },
      "source": [
        "True"
      ],
      "execution_count": null,
      "outputs": []
    },
    {
      "cell_type": "code",
      "metadata": {
        "id": "XKQ8TsKNMLDV",
        "colab_type": "code",
        "colab": {}
      },
      "source": [
        "False"
      ],
      "execution_count": null,
      "outputs": []
    },
    {
      "cell_type": "markdown",
      "metadata": {
        "id": "-AEvdJk8MLDa",
        "colab_type": "text"
      },
      "source": [
        "#### 1.1.1.4 Lists and Dicts"
      ]
    },
    {
      "cell_type": "markdown",
      "metadata": {
        "id": "ADxfutn_MLDc",
        "colab_type": "text"
      },
      "source": [
        "Python tiene tres estructuras de datos basicas dentro de su lenguaje[link text]\n",
        "\n",
        "* dictionaries (hash tables): {}\n",
        "* lists: []\n",
        "* tuples: (item, ...)\n",
        "\n",
        "\n",
        "La lista es una lista mutable de items. \n",
        "tuple es una lista inmutable.\n"
      ]
    },
    {
      "cell_type": "code",
      "metadata": {
        "id": "0W4WJphiMLDe",
        "colab_type": "code",
        "colab": {
          "base_uri": "https://localhost:8080/",
          "height": 34
        },
        "outputId": "f39e3395-5731-454b-ea06-7ee24727ff68"
      },
      "source": [
        "[1, 2, 3]"
      ],
      "execution_count": null,
      "outputs": [
        {
          "output_type": "execute_result",
          "data": {
            "text/plain": [
              "[1, 2, 3]"
            ]
          },
          "metadata": {
            "tags": []
          },
          "execution_count": 4
        }
      ]
    },
    {
      "cell_type": "code",
      "metadata": {
        "id": "A87lKf_XMLDm",
        "colab_type": "code",
        "colab": {
          "base_uri": "https://localhost:8080/",
          "height": 34
        },
        "outputId": "0d0c71b4-8803-42db-8b3b-661a212854cd"
      },
      "source": [
        "(1, 2, 3)"
      ],
      "execution_count": null,
      "outputs": [
        {
          "output_type": "execute_result",
          "data": {
            "text/plain": [
              "(1, 2, 3)"
            ]
          },
          "metadata": {
            "tags": []
          },
          "execution_count": 5
        }
      ]
    },
    {
      "cell_type": "code",
      "metadata": {
        "id": "VS95Np_aMLDs",
        "colab_type": "code",
        "colab": {
          "base_uri": "https://localhost:8080/",
          "height": 34
        },
        "outputId": "41d50747-08b2-49c3-f8dd-559ebaa01216"
      },
      "source": [
        "1, 2, 3"
      ],
      "execution_count": null,
      "outputs": [
        {
          "output_type": "execute_result",
          "data": {
            "text/plain": [
              "(1, 2, 3)"
            ]
          },
          "metadata": {
            "tags": []
          },
          "execution_count": 6
        }
      ]
    },
    {
      "cell_type": "code",
      "metadata": {
        "id": "mysnaPwWMLD0",
        "colab_type": "code",
        "colab": {
          "base_uri": "https://localhost:8080/",
          "height": 69
        },
        "outputId": "315e7e1c-fe95-48df-d6c7-5c69711917d6"
      },
      "source": [
        "{\"manzana\":   \"una fruta roja\", \"banana\": \"son amarillas\", \"mono\": \"es un mamifero\" }"
      ],
      "execution_count": null,
      "outputs": [
        {
          "output_type": "execute_result",
          "data": {
            "text/plain": [
              "{'banana': 'son amarillas',\n",
              " 'manzana': 'una fruta roja',\n",
              " 'mono': 'es un mamifero'}"
            ]
          },
          "metadata": {
            "tags": []
          },
          "execution_count": 9
        }
      ]
    },
    {
      "cell_type": "code",
      "metadata": {
        "id": "my25EkxYMLD6",
        "colab_type": "code",
        "colab": {
          "base_uri": "https://localhost:8080/",
          "height": 36
        },
        "outputId": "6fc4f1cc-b070-4198-abe6-4be66c3abf23"
      },
      "source": [
        "{\"manzana\":   \"una fruta roja\", \"banana\": \"son amarillas\", \"mono\": \"es un mamifero\" }[\"manzana\"]"
      ],
      "execution_count": null,
      "outputs": [
        {
          "output_type": "execute_result",
          "data": {
            "application/vnd.google.colaboratory.intrinsic+json": {
              "type": "string"
            },
            "text/plain": [
              "'una fruta roja'"
            ]
          },
          "metadata": {
            "tags": []
          },
          "execution_count": 10
        }
      ]
    },
    {
      "cell_type": "markdown",
      "metadata": {
        "id": "SYXsmQVkMLES",
        "colab_type": "text"
      },
      "source": [
        "### 1.1.2 Llamados a funciones\n"
      ]
    },
    {
      "cell_type": "markdown",
      "metadata": {
        "id": "_7mDatDwMLET",
        "colab_type": "text"
      },
      "source": [
        "Hay dos maneras para llamar funciones en Python\n",
        "\n",
        "1. nombre de operador predefinido\n",
        "2. el nombre de una funcion, seguido de parentesis\n",
        "\n"
      ]
    },
    {
      "cell_type": "code",
      "metadata": {
        "id": "BCe-YJvFMLEW",
        "colab_type": "code",
        "colab": {}
      },
      "source": [
        "1 + 2"
      ],
      "execution_count": null,
      "outputs": []
    },
    {
      "cell_type": "code",
      "metadata": {
        "id": "oewgiEi7MLEa",
        "colab_type": "code",
        "colab": {}
      },
      "source": [
        "abs(-1)"
      ],
      "execution_count": null,
      "outputs": []
    },
    {
      "cell_type": "markdown",
      "metadata": {
        "id": "nuWnMyx3MLEn",
        "colab_type": "text"
      },
      "source": [
        "#### 1.1.2.1 Print"
      ]
    },
    {
      "cell_type": "code",
      "metadata": {
        "id": "sDR4smznMLEo",
        "colab_type": "code",
        "colab": {
          "base_uri": "https://localhost:8080/",
          "height": 52
        },
        "outputId": "4c19b7b2-1e20-4210-9aef-1c1ed6610191"
      },
      "source": [
        "print(1)\n",
        "print('hola')"
      ],
      "execution_count": null,
      "outputs": [
        {
          "output_type": "stream",
          "text": [
            "1\n",
            "hola\n"
          ],
          "name": "stdout"
        }
      ]
    },
    {
      "cell_type": "markdown",
      "metadata": {
        "id": "sYV9yRcNMLEw",
        "colab_type": "text"
      },
      "source": [
        "### 1.1.3 Definiendo funciones"
      ]
    },
    {
      "cell_type": "code",
      "metadata": {
        "id": "_6RZQ24xMLEx",
        "colab_type": "code",
        "colab": {}
      },
      "source": [
        "def plus(a, b):\n",
        "    return a + b"
      ],
      "execution_count": null,
      "outputs": []
    },
    {
      "cell_type": "code",
      "metadata": {
        "id": "jf86O2u_MLEz",
        "colab_type": "code",
        "colab": {
          "base_uri": "https://localhost:8080/",
          "height": 34
        },
        "outputId": "80049653-e173-45a3-feeb-351daf2c86fe"
      },
      "source": [
        "plus(3, 4)"
      ],
      "execution_count": null,
      "outputs": [
        {
          "output_type": "execute_result",
          "data": {
            "text/plain": [
              "7"
            ]
          },
          "metadata": {
            "tags": []
          },
          "execution_count": 18
        }
      ]
    },
    {
      "cell_type": "code",
      "metadata": {
        "id": "jnJwdVhaMLE2",
        "colab_type": "code",
        "colab": {}
      },
      "source": [
        "def plus(a, b):\n",
        "    a + b"
      ],
      "execution_count": null,
      "outputs": []
    },
    {
      "cell_type": "code",
      "metadata": {
        "id": "AwBq_TAsMLE6",
        "colab_type": "code",
        "colab": {}
      },
      "source": [
        "plus(3, 4)"
      ],
      "execution_count": null,
      "outputs": []
    },
    {
      "cell_type": "markdown",
      "metadata": {
        "id": "pMqaRtcHMLE8",
        "colab_type": "text"
      },
      "source": [
        "\n",
        "Todas las funciones deben retornar algo. Si no retornan nada entonces por defecto retornan 'None'"
      ]
    },
    {
      "cell_type": "code",
      "metadata": {
        "id": "gU5CjW0rMLE9",
        "colab_type": "code",
        "colab": {
          "base_uri": "https://localhost:8080/",
          "height": 166
        },
        "outputId": "11b10582-7cf9-48a6-db59-d407d24470b4"
      },
      "source": [
        "\"a\" + 1"
      ],
      "execution_count": null,
      "outputs": [
        {
          "output_type": "error",
          "ename": "TypeError",
          "evalue": "ignored",
          "traceback": [
            "\u001b[0;31m---------------------------------------------------------------------------\u001b[0m",
            "\u001b[0;31mTypeError\u001b[0m                                 Traceback (most recent call last)",
            "\u001b[0;32m<ipython-input-21-42f7d05b4f13>\u001b[0m in \u001b[0;36m<module>\u001b[0;34m()\u001b[0m\n\u001b[0;32m----> 1\u001b[0;31m \u001b[0;34m\"a\"\u001b[0m \u001b[0;34m+\u001b[0m \u001b[0;36m1\u001b[0m\u001b[0;34m\u001b[0m\u001b[0;34m\u001b[0m\u001b[0m\n\u001b[0m",
            "\u001b[0;31mTypeError\u001b[0m: must be str, not int"
          ]
        }
      ]
    },
    {
      "cell_type": "markdown",
      "metadata": {
        "id": "iJTkuYtyMLFC",
        "colab_type": "text"
      },
      "source": [
        "### 1.2.1 =="
      ]
    },
    {
      "cell_type": "code",
      "metadata": {
        "id": "V0IFk495MLFC",
        "colab_type": "code",
        "colab": {}
      },
      "source": [
        "1 == 1"
      ],
      "execution_count": null,
      "outputs": []
    },
    {
      "cell_type": "markdown",
      "metadata": {
        "id": "ZGWmYww9MLFF",
        "colab_type": "text"
      },
      "source": [
        "### 1.2.2 is\n",
        "\n",
        "se revisa si se hace referencia al mismo objeto\n"
      ]
    },
    {
      "cell_type": "code",
      "metadata": {
        "id": "HG2bErdSMLFG",
        "colab_type": "code",
        "colab": {
          "base_uri": "https://localhost:8080/",
          "height": 34
        },
        "outputId": "4abdc6f5-9c56-4388-d97a-816cf2d7d17e"
      },
      "source": [
        "[] is []"
      ],
      "execution_count": null,
      "outputs": [
        {
          "output_type": "execute_result",
          "data": {
            "text/plain": [
              "False"
            ]
          },
          "metadata": {
            "tags": []
          },
          "execution_count": 22
        }
      ]
    },
    {
      "cell_type": "code",
      "metadata": {
        "id": "kYrtwmR4MLFK",
        "colab_type": "code",
        "colab": {
          "base_uri": "https://localhost:8080/",
          "height": 34
        },
        "outputId": "443ee84f-4b0d-43c9-8b2a-5b456ed9dfdf"
      },
      "source": [
        "list() is list()"
      ],
      "execution_count": null,
      "outputs": [
        {
          "output_type": "execute_result",
          "data": {
            "text/plain": [
              "False"
            ]
          },
          "metadata": {
            "tags": []
          },
          "execution_count": 23
        }
      ]
    },
    {
      "cell_type": "code",
      "metadata": {
        "id": "yv4Nc6D8MLFN",
        "colab_type": "code",
        "colab": {
          "base_uri": "https://localhost:8080/",
          "height": 34
        },
        "outputId": "9af0c69f-5d44-4f64-f195-c4bf29a28622"
      },
      "source": [
        "tuple() is tuple()"
      ],
      "execution_count": null,
      "outputs": [
        {
          "output_type": "execute_result",
          "data": {
            "text/plain": [
              "True"
            ]
          },
          "metadata": {
            "tags": []
          },
          "execution_count": 24
        }
      ]
    },
    {
      "cell_type": "code",
      "metadata": {
        "id": "J4Zy2DiYMLFP",
        "colab_type": "code",
        "colab": {
          "base_uri": "https://localhost:8080/",
          "height": 34
        },
        "outputId": "1738d04c-9f85-4b9e-8f76-eba5617e8c0a"
      },
      "source": [
        "57663463467 is 57663463467"
      ],
      "execution_count": null,
      "outputs": [
        {
          "output_type": "execute_result",
          "data": {
            "text/plain": [
              "True"
            ]
          },
          "metadata": {
            "tags": []
          },
          "execution_count": 25
        }
      ]
    },
    {
      "cell_type": "code",
      "metadata": {
        "id": "lsjzJbU8W6Se",
        "colab_type": "code",
        "colab": {
          "base_uri": "https://localhost:8080/",
          "height": 34
        },
        "outputId": "9d8ec4b5-88e6-44b5-ea1c-f6f318be85b1"
      },
      "source": [
        "x = [\"manzana\", \"banana\"]\n",
        "\n",
        "y = x\n",
        "\n",
        "print(x is y)"
      ],
      "execution_count": null,
      "outputs": [
        {
          "output_type": "stream",
          "text": [
            "True\n"
          ],
          "name": "stdout"
        }
      ]
    },
    {
      "cell_type": "markdown",
      "metadata": {
        "id": "UE88kBdxMLFS",
        "colab_type": "text"
      },
      "source": [
        "# 2. Algunos temas avanzados"
      ]
    },
    {
      "cell_type": "markdown",
      "metadata": {
        "id": "zE4JS8DzMLFT",
        "colab_type": "text"
      },
      "source": [
        "El Zen de Python\n"
      ]
    },
    {
      "cell_type": "code",
      "metadata": {
        "id": "lQJn9bBfMLFT",
        "colab_type": "code",
        "colab": {
          "base_uri": "https://localhost:8080/",
          "height": 381
        },
        "outputId": "39959520-5066-498e-9b3d-2516fe98d050"
      },
      "source": [
        "import this"
      ],
      "execution_count": null,
      "outputs": [
        {
          "output_type": "stream",
          "text": [
            "The Zen of Python, by Tim Peters\n",
            "\n",
            "Beautiful is better than ugly.\n",
            "Explicit is better than implicit.\n",
            "Simple is better than complex.\n",
            "Complex is better than complicated.\n",
            "Flat is better than nested.\n",
            "Sparse is better than dense.\n",
            "Readability counts.\n",
            "Special cases aren't special enough to break the rules.\n",
            "Although practicality beats purity.\n",
            "Errors should never pass silently.\n",
            "Unless explicitly silenced.\n",
            "In the face of ambiguity, refuse the temptation to guess.\n",
            "There should be one-- and preferably only one --obvious way to do it.\n",
            "Although that way may not be obvious at first unless you're Dutch.\n",
            "Now is better than never.\n",
            "Although never is often better than *right* now.\n",
            "If the implementation is hard to explain, it's a bad idea.\n",
            "If the implementation is easy to explain, it may be a good idea.\n",
            "Namespaces are one honking great idea -- let's do more of those!\n"
          ],
          "name": "stdout"
        }
      ]
    },
    {
      "cell_type": "markdown",
      "metadata": {
        "id": "OJx2QrqGMLFu",
        "colab_type": "text"
      },
      "source": [
        "## 2.1 Alcance de las variables"
      ]
    },
    {
      "cell_type": "markdown",
      "metadata": {
        "id": "4myLSBz1MLFx",
        "colab_type": "text"
      },
      "source": [
        "\n",
        "No siempre es claro el alcance de las variables\n",
        "\n"
      ]
    },
    {
      "cell_type": "code",
      "metadata": {
        "id": "WATlnbrqMLFy",
        "colab_type": "code",
        "colab": {}
      },
      "source": [
        "y = 0\n",
        "for x in range(10):\n",
        "    y = x"
      ],
      "execution_count": null,
      "outputs": []
    },
    {
      "cell_type": "code",
      "metadata": {
        "id": "3rST1RIOMLF2",
        "colab_type": "code",
        "colab": {
          "base_uri": "https://localhost:8080/",
          "height": 34
        },
        "outputId": "a90b6df5-014d-4c6a-dbc1-3578e2788845"
      },
      "source": [
        "x"
      ],
      "execution_count": null,
      "outputs": [
        {
          "output_type": "execute_result",
          "data": {
            "text/plain": [
              "9"
            ]
          },
          "metadata": {
            "tags": []
          },
          "execution_count": 30
        }
      ]
    },
    {
      "cell_type": "code",
      "metadata": {
        "id": "g3t717jwMLGB",
        "colab_type": "code",
        "colab": {
          "base_uri": "https://localhost:8080/",
          "height": 34
        },
        "outputId": "528e1ead-9770-4618-bedd-7d810c960c09"
      },
      "source": [
        "[x for x in range(10, 20)]"
      ],
      "execution_count": null,
      "outputs": [
        {
          "output_type": "execute_result",
          "data": {
            "text/plain": [
              "[10, 11, 12, 13, 14, 15, 16, 17, 18, 19]"
            ]
          },
          "metadata": {
            "tags": []
          },
          "execution_count": 32
        }
      ]
    },
    {
      "cell_type": "code",
      "metadata": {
        "id": "B-bol4ZPMLGI",
        "colab_type": "code",
        "colab": {
          "base_uri": "https://localhost:8080/",
          "height": 34
        },
        "outputId": "7c167120-342b-40cf-be26-376684cfa5ee"
      },
      "source": [
        "x"
      ],
      "execution_count": null,
      "outputs": [
        {
          "output_type": "execute_result",
          "data": {
            "text/plain": [
              "9"
            ]
          },
          "metadata": {
            "tags": []
          },
          "execution_count": 31
        }
      ]
    },
    {
      "cell_type": "markdown",
      "metadata": {
        "id": "bBDD1rH5MLGM",
        "colab_type": "text"
      },
      "source": [
        "## 2.2 Scope"
      ]
    },
    {
      "cell_type": "markdown",
      "metadata": {
        "id": "hNN96icYMLGO",
        "colab_type": "text"
      },
      "source": [
        "Python follows the LEGB Rule (after https://www.amazon.com/dp/0596513984/):\n",
        "\n",
        "* L, Local: Names assigned in any way within a function (def or lambda)), and not declared global in that function.\n",
        "* E, Enclosing function locals: Name in the local scope of any and all enclosing functions (def or lambda), from inner to outer.\n",
        "* G, Global (module): Names assigned at the top-level of a module file, or declared global in a def within the file.\n",
        "* B, Built-in (Python): Names preassigned in the built-in names module : open, range, SyntaxError,..."
      ]
    },
    {
      "cell_type": "code",
      "metadata": {
        "id": "At46PcQ1MLGP",
        "colab_type": "code",
        "colab": {}
      },
      "source": [
        "x = 3\n",
        "def foo():\n",
        "    x=4\n",
        "    def bar():\n",
        "        print(x)  # Accesses x from foo's scope\n",
        "    bar()  # Prints 4\n",
        "    x=5\n",
        "    bar()  # Prints 5"
      ],
      "execution_count": null,
      "outputs": []
    },
    {
      "cell_type": "code",
      "metadata": {
        "id": "0mQCuOL1MLGX",
        "colab_type": "code",
        "colab": {
          "base_uri": "https://localhost:8080/",
          "height": 52
        },
        "outputId": "ac1d6d28-f445-450b-9dd0-3f7fb4a92c09"
      },
      "source": [
        "foo()"
      ],
      "execution_count": null,
      "outputs": [
        {
          "output_type": "stream",
          "text": [
            "4\n",
            "5\n"
          ],
          "name": "stdout"
        }
      ]
    },
    {
      "cell_type": "markdown",
      "metadata": {
        "id": "itbH-z0SMLGn",
        "colab_type": "text"
      },
      "source": [
        "## 2.3 Argumentos por default"
      ]
    },
    {
      "cell_type": "code",
      "metadata": {
        "id": "h9lAYYlUMLGo",
        "colab_type": "code",
        "colab": {}
      },
      "source": [
        "def do_something(a, b, c):\n",
        "    return (a, b, c)"
      ],
      "execution_count": null,
      "outputs": []
    },
    {
      "cell_type": "code",
      "metadata": {
        "id": "SX1Q7MbfMLGt",
        "colab_type": "code",
        "colab": {
          "base_uri": "https://localhost:8080/",
          "height": 34
        },
        "outputId": "be55bd01-1b4c-4158-8205-fb5944ff81df"
      },
      "source": [
        "do_something(1, 2, 3)"
      ],
      "execution_count": null,
      "outputs": [
        {
          "output_type": "execute_result",
          "data": {
            "text/plain": [
              "(1, 2, 3)"
            ]
          },
          "metadata": {
            "tags": []
          },
          "execution_count": 37
        }
      ]
    },
    {
      "cell_type": "code",
      "metadata": {
        "id": "K2u5tJBKMLGw",
        "colab_type": "code",
        "colab": {}
      },
      "source": [
        "def do_something_else(a=1, b=2, c=3):\n",
        "    return (a, b, c)"
      ],
      "execution_count": null,
      "outputs": []
    },
    {
      "cell_type": "code",
      "metadata": {
        "id": "aRaXLdy4MLGz",
        "colab_type": "code",
        "colab": {
          "base_uri": "https://localhost:8080/",
          "height": 34
        },
        "outputId": "bea264ad-b41b-4e43-db82-ab46f54caab2"
      },
      "source": [
        "do_something_else()"
      ],
      "execution_count": null,
      "outputs": [
        {
          "output_type": "execute_result",
          "data": {
            "text/plain": [
              "(1, 2, 3)"
            ]
          },
          "metadata": {
            "tags": []
          },
          "execution_count": 39
        }
      ]
    },
    {
      "cell_type": "code",
      "metadata": {
        "id": "-icjcuTxMLG2",
        "colab_type": "code",
        "colab": {}
      },
      "source": [
        "def some_function(start=[]):\n",
        "    start.append(1)\n",
        "    return start"
      ],
      "execution_count": null,
      "outputs": []
    },
    {
      "cell_type": "code",
      "metadata": {
        "id": "StYUVNUTMLG8",
        "colab_type": "code",
        "colab": {}
      },
      "source": [
        "result = some_function()"
      ],
      "execution_count": null,
      "outputs": []
    },
    {
      "cell_type": "code",
      "metadata": {
        "id": "EXB3hzdXMLG_",
        "colab_type": "code",
        "colab": {
          "base_uri": "https://localhost:8080/",
          "height": 34
        },
        "outputId": "65f9f055-7672-4b91-c77c-98f13bdb201e"
      },
      "source": [
        "result"
      ],
      "execution_count": null,
      "outputs": [
        {
          "output_type": "execute_result",
          "data": {
            "text/plain": [
              "[1]"
            ]
          },
          "metadata": {
            "tags": []
          },
          "execution_count": 42
        }
      ]
    },
    {
      "cell_type": "code",
      "metadata": {
        "id": "tacSv3ROMLHC",
        "colab_type": "code",
        "colab": {
          "base_uri": "https://localhost:8080/",
          "height": 34
        },
        "outputId": "2dc905d3-a8de-4e26-c799-1b891c913bda"
      },
      "source": [
        "result.append(2)\n",
        "result"
      ],
      "execution_count": null,
      "outputs": [
        {
          "output_type": "execute_result",
          "data": {
            "text/plain": [
              "[1, 2, 2, 2]"
            ]
          },
          "metadata": {
            "tags": []
          },
          "execution_count": 45
        }
      ]
    },
    {
      "cell_type": "code",
      "metadata": {
        "id": "8iV7atLAMLHN",
        "colab_type": "code",
        "colab": {}
      },
      "source": [
        "other_result = some_function()"
      ],
      "execution_count": null,
      "outputs": []
    },
    {
      "cell_type": "code",
      "metadata": {
        "id": "oZ43HZ3NMLHU",
        "colab_type": "code",
        "colab": {
          "base_uri": "https://localhost:8080/",
          "height": 34
        },
        "outputId": "34506ee0-041e-45e1-9693-8a16279e3331"
      },
      "source": [
        "other_result"
      ],
      "execution_count": null,
      "outputs": [
        {
          "output_type": "execute_result",
          "data": {
            "text/plain": [
              "[1, 2, 2, 2, 1]"
            ]
          },
          "metadata": {
            "tags": []
          },
          "execution_count": 47
        }
      ]
    },
    {
      "cell_type": "markdown",
      "metadata": {
        "id": "naa4JgBxMLHX",
        "colab_type": "text"
      },
      "source": [
        "## 2.4 List comprehension"
      ]
    },
    {
      "cell_type": "markdown",
      "metadata": {
        "id": "NfbPJ8kFMLHX",
        "colab_type": "text"
      },
      "source": [
        "\"List comprehension\" es la idea de escribir codigo dentro de una lista para que lo genere\n",
        "\n",
        "Considere lo siguiente:"
      ]
    },
    {
      "cell_type": "code",
      "metadata": {
        "id": "98YRGVtsMLHZ",
        "colab_type": "code",
        "colab": {
          "base_uri": "https://localhost:8080/",
          "height": 34
        },
        "outputId": "7eef262c-4736-4f8a-fb6e-d9900d085d2c"
      },
      "source": [
        "[x ** 2 for x in range(10)]"
      ],
      "execution_count": null,
      "outputs": [
        {
          "output_type": "execute_result",
          "data": {
            "text/plain": [
              "[0, 1, 4, 9, 16, 25, 36, 49, 64, 81]"
            ]
          },
          "metadata": {
            "tags": []
          },
          "execution_count": 50
        }
      ]
    },
    {
      "cell_type": "code",
      "metadata": {
        "id": "3LSpa3F-MLHd",
        "colab_type": "code",
        "colab": {
          "base_uri": "https://localhost:8080/",
          "height": 34
        },
        "outputId": "4735bd03-1aec-4c12-faa2-9313eb675157"
      },
      "source": [
        "temp_list = []\n",
        "for x in range(10):\n",
        "    temp_list.append(x ** 2)\n",
        "temp_list"
      ],
      "execution_count": null,
      "outputs": [
        {
          "output_type": "execute_result",
          "data": {
            "text/plain": [
              "[0, 1, 4, 9, 16, 25, 36, 49, 64, 81]"
            ]
          },
          "metadata": {
            "tags": []
          },
          "execution_count": 51
        }
      ]
    },
    {
      "cell_type": "markdown",
      "metadata": {
        "id": "dVAgn-Z0cB_F",
        "colab_type": "text"
      },
      "source": [
        "List comprehension es mucho mas conciso y **pythonico**!"
      ]
    },
    {
      "cell_type": "markdown",
      "metadata": {
        "id": "MuovNTo-MLHj",
        "colab_type": "text"
      },
      "source": [
        "3. Plotting\n",
        "\n",
        "Es TODO un arte!\n",
        "Usamos matplotplib para poder plot/ graficar\n"
      ]
    },
    {
      "cell_type": "code",
      "metadata": {
        "id": "3Lbr6PwuMLHm",
        "colab_type": "code",
        "colab": {}
      },
      "source": [
        "import matplotlib.pyplot as plt"
      ],
      "execution_count": null,
      "outputs": []
    },
    {
      "cell_type": "markdown",
      "metadata": {
        "id": "CDaNg5yiMLHs",
        "colab_type": "text"
      },
      "source": [
        "Para crear la forma mas sencilla de un grafico pasamos los valores del rango\n"
      ]
    },
    {
      "cell_type": "code",
      "metadata": {
        "id": "yXAkuTiAMLHt",
        "colab_type": "code",
        "colab": {
          "base_uri": "https://localhost:8080/",
          "height": 265
        },
        "outputId": "bbca6430-b042-4c04-b01f-4fefc9d07413"
      },
      "source": [
        "plt.plot([5, 8, 2, 6, 1, 8, 2, 3, 4, 5, 6])\n",
        "plt.show()"
      ],
      "execution_count": null,
      "outputs": [
        {
          "output_type": "display_data",
          "data": {
            "image/png": "[encoded data removed]",
            "text/plain": [
              "<Figure size 432x288 with 1 Axes>"
            ]
          },
          "metadata": {
            "tags": [],
            "needs_background": "light"
          }
        }
      ]
    },
    {
      "cell_type": "markdown",
      "metadata": {
        "id": "zsxwbbAFc_GA",
        "colab_type": "text"
      },
      "source": [
        "# 3. Algunas librerias importantes\n",
        "\n"
      ]
    },
    {
      "cell_type": "markdown",
      "metadata": {
        "id": "5NxYD5k7delJ",
        "colab_type": "text"
      },
      "source": [
        "* Numpy: \n",
        "https://numpy.org\n",
        "* Scipy:\n",
        "https://www.scipy.org\n",
        "* Seaborn:\n",
        "https://seaborn.pydata.org\n",
        "\n",
        "super util: "
      ]
    },
    {
      "cell_type": "code",
      "metadata": {
        "id": "4a5e8D9nd9Uq",
        "colab_type": "code",
        "colab": {}
      },
      "source": [
        "import numpy as np\n",
        "import scipy\n",
        "import scipy.stats \n",
        "import matplotlib.pyplot as plt\n",
        "\n"
      ],
      "execution_count": 4,
      "outputs": []
    },
    {
      "cell_type": "code",
      "metadata": {
        "id": "w0jIOdS9hUW6",
        "colab_type": "code",
        "colab": {}
      },
      "source": [
        "#Crear datos\n",
        "\n",
        "x=range(1,101) #rango(a,b) numeros de a hasta b-1 incluido\n",
        "y=np.random.randn(100)*15+range(1,101) #numeros aleatorios\n",
        "\n"
      ],
      "execution_count": 5,
      "outputs": []
    },
    {
      "cell_type": "code",
      "metadata": {
        "id": "ihNho6ITiA0P",
        "colab_type": "code",
        "colab": {
          "base_uri": "https://localhost:8080/",
          "height": 265
        },
        "outputId": "07f8331b-fb96-4ca8-b102-c1df60cf3efa"
      },
      "source": [
        "# matplotlib\n",
        "plt.plot( x, y, marker='o', color='mediumvioletred')\n",
        "plt.show()\n",
        " \n"
      ],
      "execution_count": 6,
      "outputs": [
        {
          "output_type": "display_data",
          "data": {
            "image/png": "[encoded data removed]",
            "text/plain": [
              "<Figure size 432x288 with 1 Axes>"
            ]
          },
          "metadata": {
            "tags": [],
            "needs_background": "light"
          }
        }
      ]
    },
    {
      "cell_type": "code",
      "metadata": {
        "id": "WYDT1fnRiWzD",
        "colab_type": "code",
        "colab": {
          "base_uri": "https://localhost:8080/",
          "height": 320
        },
        "outputId": "2b1e5d38-617b-4aff-ceb9-362d110e455e"
      },
      "source": [
        "#usando seaborn\n",
        "import seaborn as sns\n",
        "sns.set_style(\"darkgrid\")\n",
        "\n",
        "\n",
        "plt.plot( x, y, marker='o', color='mediumvioletred')\n",
        "plt.show()\n",
        " "
      ],
      "execution_count": 7,
      "outputs": [
        {
          "output_type": "stream",
          "text": [
            "/usr/local/lib/python3.6/dist-packages/statsmodels/tools/_testing.py:19: FutureWarning: pandas.util.testing is deprecated. Use the functions in the public API at pandas.testing instead.\n",
            "  import pandas.util.testing as tm\n"
          ],
          "name": "stderr"
        },
        {
          "output_type": "display_data",
          "data": {
            "image/png": "[encoded data removed]",
            "text/plain": [
              "<Figure size 432x288 with 1 Axes>"
            ]
          },
          "metadata": {
            "tags": []
          }
        }
      ]
    },
    {
      "cell_type": "code",
      "metadata": {
        "id": "t0-Y4-PFimBp",
        "colab_type": "code",
        "colab": {
          "base_uri": "https://localhost:8080/",
          "height": 206
        },
        "outputId": "72e16356-238c-4ff2-a58d-6438430be697"
      },
      "source": [
        "#otro ejemplo \n",
        "import pandas as pd\n",
        "\n",
        "tips = sns.load_dataset(\"tips\") #datos tips\n",
        "tips.head()"
      ],
      "execution_count": 8,
      "outputs": [
        {
          "output_type": "execute_result",
          "data": {
            "text/html": [
              "<div>\n",
              "<style scoped>\n",
              "    .dataframe tbody tr th:only-of-type {\n",
              "        vertical-align: middle;\n",
              "    }\n",
              "\n",
              "    .dataframe tbody tr th {\n",
              "        vertical-align: top;\n",
              "    }\n",
              "\n",
              "    .dataframe thead th {\n",
              "        text-align: right;\n",
              "    }\n",
              "</style>\n",
              "<table border=\"1\" class=\"dataframe\">\n",
              "  <thead>\n",
              "    <tr style=\"text-align: right;\">\n",
              "      <th></th>\n",
              "      <th>total_bill</th>\n",
              "      <th>tip</th>\n",
              "      <th>sex</th>\n",
              "      <th>smoker</th>\n",
              "      <th>day</th>\n",
              "      <th>time</th>\n",
              "      <th>size</th>\n",
              "    </tr>\n",
              "  </thead>\n",
              "  <tbody>\n",
              "    <tr>\n",
              "      <th>0</th>\n",
              "      <td>16.99</td>\n",
              "      <td>1.01</td>\n",
              "      <td>Female</td>\n",
              "      <td>No</td>\n",
              "      <td>Sun</td>\n",
              "      <td>Dinner</td>\n",
              "      <td>2</td>\n",
              "    </tr>\n",
              "    <tr>\n",
              "      <th>1</th>\n",
              "      <td>10.34</td>\n",
              "      <td>1.66</td>\n",
              "      <td>Male</td>\n",
              "      <td>No</td>\n",
              "      <td>Sun</td>\n",
              "      <td>Dinner</td>\n",
              "      <td>3</td>\n",
              "    </tr>\n",
              "    <tr>\n",
              "      <th>2</th>\n",
              "      <td>21.01</td>\n",
              "      <td>3.50</td>\n",
              "      <td>Male</td>\n",
              "      <td>No</td>\n",
              "      <td>Sun</td>\n",
              "      <td>Dinner</td>\n",
              "      <td>3</td>\n",
              "    </tr>\n",
              "    <tr>\n",
              "      <th>3</th>\n",
              "      <td>23.68</td>\n",
              "      <td>3.31</td>\n",
              "      <td>Male</td>\n",
              "      <td>No</td>\n",
              "      <td>Sun</td>\n",
              "      <td>Dinner</td>\n",
              "      <td>2</td>\n",
              "    </tr>\n",
              "    <tr>\n",
              "      <th>4</th>\n",
              "      <td>24.59</td>\n",
              "      <td>3.61</td>\n",
              "      <td>Female</td>\n",
              "      <td>No</td>\n",
              "      <td>Sun</td>\n",
              "      <td>Dinner</td>\n",
              "      <td>4</td>\n",
              "    </tr>\n",
              "  </tbody>\n",
              "</table>\n",
              "</div>"
            ],
            "text/plain": [
              "   total_bill   tip     sex smoker  day    time  size\n",
              "0       16.99  1.01  Female     No  Sun  Dinner     2\n",
              "1       10.34  1.66    Male     No  Sun  Dinner     3\n",
              "2       21.01  3.50    Male     No  Sun  Dinner     3\n",
              "3       23.68  3.31    Male     No  Sun  Dinner     2\n",
              "4       24.59  3.61  Female     No  Sun  Dinner     4"
            ]
          },
          "metadata": {
            "tags": []
          },
          "execution_count": 8
        }
      ]
    },
    {
      "cell_type": "code",
      "metadata": {
        "id": "tmDoWHBDjk2j",
        "colab_type": "code",
        "colab": {
          "base_uri": "https://localhost:8080/",
          "height": 300
        },
        "outputId": "519188f4-6480-4f12-d4b9-f11881d5f0a5"
      },
      "source": [
        "pd.DataFrame.describe(tips)"
      ],
      "execution_count": 9,
      "outputs": [
        {
          "output_type": "execute_result",
          "data": {
            "text/html": [
              "<div>\n",
              "<style scoped>\n",
              "    .dataframe tbody tr th:only-of-type {\n",
              "        vertical-align: middle;\n",
              "    }\n",
              "\n",
              "    .dataframe tbody tr th {\n",
              "        vertical-align: top;\n",
              "    }\n",
              "\n",
              "    .dataframe thead th {\n",
              "        text-align: right;\n",
              "    }\n",
              "</style>\n",
              "<table border=\"1\" class=\"dataframe\">\n",
              "  <thead>\n",
              "    <tr style=\"text-align: right;\">\n",
              "      <th></th>\n",
              "      <th>total_bill</th>\n",
              "      <th>tip</th>\n",
              "      <th>size</th>\n",
              "    </tr>\n",
              "  </thead>\n",
              "  <tbody>\n",
              "    <tr>\n",
              "      <th>count</th>\n",
              "      <td>244.000000</td>\n",
              "      <td>244.000000</td>\n",
              "      <td>244.000000</td>\n",
              "    </tr>\n",
              "    <tr>\n",
              "      <th>mean</th>\n",
              "      <td>19.785943</td>\n",
              "      <td>2.998279</td>\n",
              "      <td>2.569672</td>\n",
              "    </tr>\n",
              "    <tr>\n",
              "      <th>std</th>\n",
              "      <td>8.902412</td>\n",
              "      <td>1.383638</td>\n",
              "      <td>0.951100</td>\n",
              "    </tr>\n",
              "    <tr>\n",
              "      <th>min</th>\n",
              "      <td>3.070000</td>\n",
              "      <td>1.000000</td>\n",
              "      <td>1.000000</td>\n",
              "    </tr>\n",
              "    <tr>\n",
              "      <th>25%</th>\n",
              "      <td>13.347500</td>\n",
              "      <td>2.000000</td>\n",
              "      <td>2.000000</td>\n",
              "    </tr>\n",
              "    <tr>\n",
              "      <th>50%</th>\n",
              "      <td>17.795000</td>\n",
              "      <td>2.900000</td>\n",
              "      <td>2.000000</td>\n",
              "    </tr>\n",
              "    <tr>\n",
              "      <th>75%</th>\n",
              "      <td>24.127500</td>\n",
              "      <td>3.562500</td>\n",
              "      <td>3.000000</td>\n",
              "    </tr>\n",
              "    <tr>\n",
              "      <th>max</th>\n",
              "      <td>50.810000</td>\n",
              "      <td>10.000000</td>\n",
              "      <td>6.000000</td>\n",
              "    </tr>\n",
              "  </tbody>\n",
              "</table>\n",
              "</div>"
            ],
            "text/plain": [
              "       total_bill         tip        size\n",
              "count  244.000000  244.000000  244.000000\n",
              "mean    19.785943    2.998279    2.569672\n",
              "std      8.902412    1.383638    0.951100\n",
              "min      3.070000    1.000000    1.000000\n",
              "25%     13.347500    2.000000    2.000000\n",
              "50%     17.795000    2.900000    2.000000\n",
              "75%     24.127500    3.562500    3.000000\n",
              "max     50.810000   10.000000    6.000000"
            ]
          },
          "metadata": {
            "tags": []
          },
          "execution_count": 9
        }
      ]
    },
    {
      "cell_type": "code",
      "metadata": {
        "id": "PSFHppK6jONV",
        "colab_type": "code",
        "colab": {
          "base_uri": "https://localhost:8080/",
          "height": 312
        },
        "outputId": "3bb32e52-2a7d-4629-dff3-c2d6d2ba06b3"
      },
      "source": [
        "plt.plot( tips['total_bill']  , tips['tip'], '.')\n",
        "plt.xlabel('total bill')\n",
        "plt.ylabel('tip')\n",
        "plt.title('scatterplot bill vs tip')"
      ],
      "execution_count": 14,
      "outputs": [
        {
          "output_type": "execute_result",
          "data": {
            "text/plain": [
              "Text(0.5, 1.0, 'scatterplot bill vs tip')"
            ]
          },
          "metadata": {
            "tags": []
          },
          "execution_count": 14
        },
        {
          "output_type": "display_data",
          "data": {
            "image/png": "[encoded data removed]",
            "text/plain": [
              "<Figure size 432x288 with 1 Axes>"
            ]
          },
          "metadata": {
            "tags": []
          }
        }
      ]
    },
    {
      "cell_type": "code",
      "metadata": {
        "id": "DShlQ14XjLoq",
        "colab_type": "code",
        "colab": {
          "base_uri": "https://localhost:8080/",
          "height": 513
        },
        "outputId": "19579a60-76f0-4c2c-c75f-715980079822"
      },
      "source": [
        "g = sns.jointplot(x=\"total_bill\", y=\"tip\", data=tips,\n",
        "                  kind=\"reg\", truncate=False,\n",
        "                  xlim=(0, 60), ylim=(0, 12),\n",
        "                  height=7)\n",
        "\n",
        "#es el mismo grafico pero le hemos ajustado una recta de regresion\n",
        "#tambien se muestran los histogramas y estimadores de densidad\n"
      ],
      "execution_count": 16,
      "outputs": [
        {
          "output_type": "display_data",
          "data": {
            "image/png": "[encoded data removed]",
            "text/plain": [
              "<Figure size 504x504 with 3 Axes>"
            ]
          },
          "metadata": {
            "tags": []
          }
        }
      ]
    },
    {
      "cell_type": "code",
      "metadata": {
        "id": "xVvaxIjE35_N",
        "colab_type": "code",
        "colab": {
          "base_uri": "https://localhost:8080/",
          "height": 104
        },
        "outputId": "4e41797c-5b9a-4d41-e995-5f0b71b28949"
      },
      "source": [
        "#Numpy nos sirve para poder manejar arreglos\n",
        "\n",
        "\n",
        "\n",
        "x=np.array([1,2,3,4,5,6])\n",
        "print(x)\n",
        "print(x[0:]) #indexar hacia adelante\n",
        "print(x[-1])\n",
        "print(x[:-1])\n",
        "print(x[:-2]) #indexar hacia atras\n"
      ],
      "execution_count": 23,
      "outputs": [
        {
          "output_type": "stream",
          "text": [
            "[1 2 3 4 5 6]\n",
            "[1 2 3 4 5 6]\n",
            "6\n",
            "[1 2 3 4 5]\n",
            "[1 2 3 4]\n"
          ],
          "name": "stdout"
        }
      ]
    },
    {
      "cell_type": "code",
      "metadata": {
        "id": "-SNab2nb3_Zm",
        "colab_type": "code",
        "colab": {
          "base_uri": "https://localhost:8080/",
          "height": 34
        },
        "outputId": "23d3a87f-d2f3-4d33-eb48-b49802e85d18"
      },
      "source": [
        "#Podemos tener arreglos nulos\n",
        "\n",
        "m=10 #cuantos ceros quiero\n",
        "y=np.zeros(m)\n",
        "print(y)\n"
      ],
      "execution_count": 25,
      "outputs": [
        {
          "output_type": "stream",
          "text": [
            "[0. 0. 0. 0. 0. 0. 0. 0. 0. 0.]\n"
          ],
          "name": "stdout"
        }
      ]
    },
    {
      "cell_type": "code",
      "metadata": {
        "id": "NIO62Kbw4iV8",
        "colab_type": "code",
        "colab": {
          "base_uri": "https://localhost:8080/",
          "height": 173
        },
        "outputId": "2493b3c9-b4c2-491e-849d-15642329de72"
      },
      "source": [
        "#Arreglos bidimensionales\n",
        "\n",
        "m=4\n",
        "z=np.zeros([4,4 ])\n",
        "print(z)\n",
        "\n",
        "for i in range(m):\n",
        "  for j in range(m):\n",
        "    z[i,j]=i\n",
        "\n",
        "print('\\n',z)"
      ],
      "execution_count": 29,
      "outputs": [
        {
          "output_type": "stream",
          "text": [
            "[[0. 0. 0. 0.]\n",
            " [0. 0. 0. 0.]\n",
            " [0. 0. 0. 0.]\n",
            " [0. 0. 0. 0.]]\n",
            "\n",
            " [[0. 0. 0. 0.]\n",
            " [1. 1. 1. 1.]\n",
            " [2. 2. 2. 2.]\n",
            " [3. 3. 3. 3.]]\n"
          ],
          "name": "stdout"
        }
      ]
    },
    {
      "cell_type": "code",
      "metadata": {
        "id": "WJDmZpP443Br",
        "colab_type": "code",
        "colab": {
          "base_uri": "https://localhost:8080/",
          "height": 52
        },
        "outputId": "193a5f0a-40b2-4a2e-d568-7a3c48b99afa"
      },
      "source": [
        "#podemos accesar renglones y columnas de arreglos bidimensionales\n",
        "\n",
        "print( z[0,:]) #renglon 0\n",
        "\n",
        "print( z[:,0]) #columna 0, notar que la impresion es horizontal"
      ],
      "execution_count": 31,
      "outputs": [
        {
          "output_type": "stream",
          "text": [
            "[0. 0. 0. 0.]\n",
            "[0. 1. 2. 3.]\n"
          ],
          "name": "stdout"
        }
      ]
    },
    {
      "cell_type": "code",
      "metadata": {
        "id": "OicFIiFe4oIC",
        "colab_type": "code",
        "colab": {}
      },
      "source": [
        ""
      ],
      "execution_count": null,
      "outputs": []
    },
    {
      "cell_type": "markdown",
      "metadata": {
        "id": "ToyFgvc9MLIC",
        "colab_type": "text"
      },
      "source": [
        "<H1>References</H1>\n",
        "\n",
        "[1] https://en.wikipedia.org/wiki/History_of_Python"
      ]
    },
    {
      "cell_type": "markdown",
      "metadata": {
        "id": "QJWbAvFlc986",
        "colab_type": "text"
      },
      "source": [
        ""
      ]
    }
  ]
}