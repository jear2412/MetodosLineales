{
  "nbformat": 4,
  "nbformat_minor": 0,
  "metadata": {
    "colab": {
      "name": "Untitled36.ipynb",
      "provenance": [],
      "authorship_tag": "ABX9TyPuIn5bsPSRdQwbpiDmmgFr",
      "include_colab_link": true
    },
    "kernelspec": {
      "name": "python3",
      "display_name": "Python 3"
    }
  },
  "cells": [
    {
      "cell_type": "markdown",
      "metadata": {
        "id": "view-in-github",
        "colab_type": "text"
      },
      "source": [
        "<a href=\"https://colab.research.google.com/github/jear2412/MetodosLineales/blob/master/ClasificadorBayes.ipynb\" target=\"_parent\"><img src=\"https://colab.research.google.com/assets/colab-badge.svg\" alt=\"Open In Colab\"/></a>"
      ]
    },
    {
      "cell_type": "code",
      "metadata": {
        "id": "lcuDeAEZfvSp"
      },
      "source": [
        "# Clasificador Bayesiano de 3 poblaciones exponenciales\n",
        "\n",
        "\n",
        "import numpy as np\n",
        "import scipy\n",
        "import scipy.stats\n",
        "import seaborn as sns\n",
        "import matplotlib\n",
        "import matplotlib.pyplot as plt\n",
        "import pandas as pd\n",
        "\n",
        "sns.set_theme(style=\"darkgrid\")"
      ],
      "execution_count": 189,
      "outputs": []
    },
    {
      "cell_type": "code",
      "metadata": {
        "id": "D_nxm1Pjky_8"
      },
      "source": [
        "#Clasificador Bayesiano para tres poblaciones exponenciales\n",
        " \n",
        "def CB(x,l,n):\n",
        "  #x observacion\n",
        "  #l vector de lambdas de Exp\n",
        "\n",
        "  a= np.log( l[1]/l[0] )/ (l[1]-l[0])\n",
        "  b= np.log( l[2]/l[0] )/ (l[2]-l[0])\n",
        "  c= np.log( l[2]/l[1] )/ (l[2]-l[1])\n",
        "\n",
        "  p1= np.max([a,b])  \n",
        "  p3= np.min([b,c])\n",
        "\n",
        "  xbar=np.mean(x)\n",
        "\n",
        "  if xbar>= p1:\n",
        "    return 0\n",
        "  elif xbar<= p1 and xbar>= p3:\n",
        "    return 1\n",
        "  else:\n",
        "    return 2  \n",
        "\n",
        "  \n"
      ],
      "execution_count": 333,
      "outputs": []
    },
    {
      "cell_type": "markdown",
      "metadata": {
        "id": "IB5-o3hPTp_d"
      },
      "source": [
        ""
      ]
    },
    {
      "cell_type": "code",
      "metadata": {
        "id": "e73gDK2LooPg"
      },
      "source": [
        "l=np.array([1,2,3]) #vector de lambdas\n",
        "\n"
      ],
      "execution_count": 309,
      "outputs": []
    },
    {
      "cell_type": "code",
      "metadata": {
        "id": "f8O4uMOao_Ym"
      },
      "source": [
        "#-------- Simulacion del error del clasificador\n",
        "\n",
        "\n",
        "def simerror( simobs, nsims , l , n  ):\n",
        "\n",
        "  ''' simobs: observaciones en la simulacion\n",
        "      nsims: numero de simulaciones\n",
        "      l: vector de lambdas\n",
        "      n: cuantas observaciones tenemos para calcular el error''' \n",
        "\n",
        "  ematrix=np.zeros( (simobs, nsims) ) #matriz donde se guardara el error simulado a medida crece la muestra\n",
        "\n",
        "  for k in range( nsims ):\n",
        "    I=np.zeros(simobs) # cual estamos muestreando?\n",
        "    label=np.zeros(simobs) #etiquetas asignadas por el clasificador\n",
        "    error=np.zeros(simobs) #error del clasificador\n",
        "    for m in range(simobs):\n",
        "      I[m]=np.random.choice(np.array([0,1,2])   , size=1)[0] #seleccionamos que poblacion muestrear\n",
        "      sample= scipy.stats.expon.rvs( scale=1/l[int(I[m])] , size= n) #cuantas observaciones\n",
        "      label[m]= CB( sample,l, n ) #etiqueta asignada por el clasificador\n",
        "      error[m]=1-  np.sum( label[0:m+1]== I[0:m+1] )/(m+1) #\n",
        "      ematrix[m,k]= error[m]\n",
        "    \n",
        "  return ematrix\n"
      ],
      "execution_count": 315,
      "outputs": []
    },
    {
      "cell_type": "code",
      "metadata": {
        "colab": {
          "base_uri": "https://localhost:8080/",
          "height": 301
        },
        "id": "CTuspV9NvgdZ",
        "outputId": "9ad9c5db-5242-48c3-ac0a-df19b9d75f4c"
      },
      "source": [
        "#grafico de las corridas del error\n",
        "\n",
        "simobs=10000\n",
        "nsims=1\n",
        "n=10\n",
        "ematrix=simerror( simobs, nsims, l , n  )\n",
        "\n",
        "for i in range(nsims):\n",
        "  plt.plot(ematrix[:, i], linewidth=1)\n",
        "plt.xlabel('No de Obs en la simulacion')\n",
        "plt.ylabel('P(e)')\n",
        "plt.title('Simulacion de Probabilidad de error')\n",
        "plt.savefig('sim.png', dpi=500)\n",
        "plt.show()\n"
      ],
      "execution_count": 334,
      "outputs": [
        {
          "output_type": "display_data",
          "data": {
            "image/png": "[encoded data removed]",
            "text/plain": [
              "<Figure size 432x288 with 1 Axes>"
            ]
          },
          "metadata": {
            "tags": []
          }
        }
      ]
    },
    {
      "cell_type": "code",
      "metadata": {
        "id": "3C_5Suz1zcIH"
      },
      "source": [
        "# Probabilidad del error\n",
        "\n",
        "# a prioris iguales\n",
        "\n",
        "def perror(l,n):\n",
        "  #l vector de lambdas de Exp\n",
        "\n",
        "  a= np.log( l[1]/l[0] )/ (l[1]-l[0])\n",
        "  b= np.log( l[2]/l[0] )/ (l[2]-l[0])\n",
        "  c= np.log( l[2]/l[1] )/ (l[2]-l[1])\n",
        "\n",
        "  p1= np.max([n*a,n*b])  \n",
        "  p3= np.min([n*b,n*c])\n",
        "  \n",
        "  t1= 1-scipy.stats.gamma.cdf( p1, loc=0,a=n, scale= 1/l[0]  ) \n",
        "  t2= scipy.stats.gamma.cdf( p1, loc=0, a=n, scale= 1/l[1]  ) - scipy.stats.gamma.cdf( p3, a=n, scale= 1/l[1]  ) \n",
        "  t3= scipy.stats.gamma.cdf( p3, loc=0, a=n, scale= 1/l[2]  )\n",
        "  \n",
        "  return 1-1/3*(t1+t2+t3)\n",
        "  \n",
        "  "
      ],
      "execution_count": 329,
      "outputs": []
    }
  ]
}